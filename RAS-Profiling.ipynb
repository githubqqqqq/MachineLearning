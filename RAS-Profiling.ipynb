{
 "cells": [
  {
   "cell_type": "code",
   "execution_count": 1,
   "id": "b39d4c98",
   "metadata": {},
   "outputs": [],
   "source": [
    "import pandas as pd"
   ]
  },
  {
   "cell_type": "code",
   "execution_count": 5,
   "id": "c9f4fd28",
   "metadata": {},
   "outputs": [],
   "source": [
    "df=pd.read_csv(\"C:/Users/catqq/OneDrive/Model/model_data.csv\",\\\n",
    "\n",
    "               dtype={\"Date\": str,\"Lead - Mobile Phone Area Code\":str,\\\n",
    "\n",
    "                      \"Lead - Phone Number Area Code\":str,\"Lead Category\":str,\\\n",
    "\n",
    "                     \"Lead Source ID\" :str,\"Lead - Form Source\":str,\"Lead - Campus\":str,\\\n",
    "\n",
    "                     \"Lead - School of Study\":str,\"Lead - Program\":str,\"Lead - Zip/Postal Code\":str,\\\n",
    "\n",
    "                     \"Lead - Original Program Request\":str,\"Lead - Original Lead Campus\":str}, low_memory=False)"
   ]
  },
  {
   "cell_type": "code",
   "execution_count": 6,
   "id": "0e819598",
   "metadata": {},
   "outputs": [],
   "source": [
    "df[\"Y\"]=df.apply(lambda x: 1 if  x[\"Converted in 90 Days?\"]=='Yes' else 0, axis=1) "
   ]
  },
  {
   "cell_type": "code",
   "execution_count": 7,
   "id": "a8c26952",
   "metadata": {},
   "outputs": [],
   "source": [
    "df_sub=df.drop(['Date', 'Converted in 90 Days?','Revenue','Google Ads GCLID','Opportunity - Created Date','Account ID','LeadID',\\\n",
    "          'Opportunity ID','OpportunityID','Lead ID','Lead Comments - Notes',\n",
    "               'Visit Start Time'], axis=1)"
   ]
  },
  {
   "cell_type": "code",
   "execution_count": 8,
   "id": "e5d5a472",
   "metadata": {},
   "outputs": [
    {
     "data": {
      "text/plain": [
       "13514"
      ]
     },
     "execution_count": 8,
     "metadata": {},
     "output_type": "execute_result"
    }
   ],
   "source": [
    "df_sub.shape[0]"
   ]
  },
  {
   "cell_type": "code",
   "execution_count": 16,
   "id": "8f398101",
   "metadata": {},
   "outputs": [],
   "source": []
  },
  {
   "cell_type": "code",
   "execution_count": 19,
   "id": "c4efb3f5",
   "metadata": {},
   "outputs": [],
   "source": [
    "##df.groupby([\"Converted in 90 Days?\",\"Y\"],dropna=False).count()"
   ]
  },
  {
   "cell_type": "code",
   "execution_count": null,
   "id": "c11dd930",
   "metadata": {},
   "outputs": [],
   "source": [
    "##conda install -c conda-forge sweetviz"
   ]
  },
  {
   "cell_type": "code",
   "execution_count": 9,
   "id": "41471f32",
   "metadata": {},
   "outputs": [
    {
     "data": {
      "application/vnd.jupyter.widget-view+json": {
       "model_id": "3a68d46fc13d4f61bde61756ee84a80f",
       "version_major": 2,
       "version_minor": 0
      },
      "text/plain": [
       "                                             |                                             | [  0%]   00:00 ->…"
      ]
     },
     "metadata": {},
     "output_type": "display_data"
    },
    {
     "name": "stderr",
     "output_type": "stream",
     "text": [
      "C:\\Users\\catqq\\Anaconda3\\envs\\ml_model\\lib\\site-packages\\sweetviz\\graph_associations.py:219: PerformanceWarning: DataFrame is highly fragmented.  This is usually the result of calling `frame.insert` many times, which has poor performance.  Consider joining all columns at once using pd.concat(axis=1) instead.  To get a de-fragmented frame, use `newframe = frame.copy()`\n",
      "  new_dataframe[feature] = pd.Series(dtype=float)\n"
     ]
    }
   ],
   "source": [
    "import sweetviz as sv\n",
    "my_report=sv.analyze( source=df_sub,\n",
    "            target_feat = 'Y',\n",
    "            feat_cfg = None,\n",
    "            pairwise_analysis = 'on')"
   ]
  },
  {
   "cell_type": "code",
   "execution_count": 10,
   "id": "20d6f1f1",
   "metadata": {},
   "outputs": [
    {
     "name": "stdout",
     "output_type": "stream",
     "text": [
      "Report SWEETVIZ_REPORT.html was generated! NOTEBOOK/COLAB USERS: the web browser MAY not pop up, regardless, the report IS saved in your notebook/colab files.\n"
     ]
    }
   ],
   "source": [
    "my_report.show_html() "
   ]
  },
  {
   "cell_type": "code",
   "execution_count": 28,
   "id": "63fe1d19",
   "metadata": {},
   "outputs": [],
   "source": [
    "##conda install -c conda-forge pandas-profiling=3.2.0\n",
    "from pandas_profiling import ProfileReport"
   ]
  },
  {
   "cell_type": "code",
   "execution_count": 30,
   "id": "8dcb2239",
   "metadata": {},
   "outputs": [],
   "source": [
    "##profile = ProfileReport(df)"
   ]
  },
  {
   "cell_type": "code",
   "execution_count": null,
   "id": "83b1a9dc",
   "metadata": {},
   "outputs": [],
   "source": [
    "profile.to_file(\"your_report.html\")"
   ]
  }
 ],
 "metadata": {
  "kernelspec": {
   "display_name": "Python 3 (ipykernel)",
   "language": "python",
   "name": "python3"
  },
  "language_info": {
   "codemirror_mode": {
    "name": "ipython",
    "version": 3
   },
   "file_extension": ".py",
   "mimetype": "text/x-python",
   "name": "python",
   "nbconvert_exporter": "python",
   "pygments_lexer": "ipython3",
   "version": "3.7.15"
  }
 },
 "nbformat": 4,
 "nbformat_minor": 5
}
